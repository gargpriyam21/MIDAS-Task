{
  "nbformat": 4,
  "nbformat_minor": 0,
  "metadata": {
    "colab": {
      "name": "CV_.ipynb",
      "version": "0.3.2",
      "provenance": []
    },
    "kernelspec": {
      "name": "python3",
      "display_name": "Python 3"
    }
  },
  "cells": [
    {
      "metadata": {
        "id": "tSdWGgAbzZMj",
        "colab_type": "text"
      },
      "cell_type": "markdown",
      "source": [
        "# Loading The Required Librariries\n",
        "\n",
        "Using libraries:\n",
        "\n",
        "- Numpy for Mathematical Computations\n",
        "- Pandas for storing data\n",
        "- Pytorch for creating the network model\n",
        "- Matplotlib for visualisation\n",
        "- Pickle for opening and reading files"
      ]
    },
    {
      "metadata": {
        "id": "cDHqT4jszbvh",
        "colab_type": "code",
        "colab": {}
      },
      "cell_type": "code",
      "source": [
        "import numpy as np\n",
        "import matplotlib.pyplot as plt\n",
        "%matplotlib inline\n",
        "import torch\n",
        "from torch.autograd import Variable\n",
        "import torch.nn.functional as NN\n",
        "from torch import nn\n",
        "import pandas as pd\n",
        "import pickle"
      ],
      "execution_count": 0,
      "outputs": []
    },
    {
      "metadata": {
        "id": "DPw__eLs0XbV",
        "colab_type": "text"
      },
      "cell_type": "markdown",
      "source": [
        "# Getting Hands on Data\n",
        "Reading and storing the data"
      ]
    },
    {
      "metadata": {
        "id": "uJJjxyHdxXwd",
        "colab_type": "code",
        "colab": {}
      },
      "cell_type": "code",
      "source": [
        "#storing the data in A and B\n",
        "with open('train_image.pkl','rb') as trn:\n",
        "  A = pickle.load(trn)\n",
        "\n",
        "with open('train_label.pkl','rb') as tst:\n",
        "  B = pickle.load(tst)\n",
        "  \n",
        "#Converting the list data to numpy arrays\n",
        "A = np.array(A)\n",
        "B = np.array(B)"
      ],
      "execution_count": 0,
      "outputs": []
    },
    {
      "metadata": {
        "id": "-9SbkWVu03jm",
        "colab_type": "text"
      },
      "cell_type": "markdown",
      "source": [
        "#Visualising the data"
      ]
    },
    {
      "metadata": {
        "id": "-VtlAiqLxXtf",
        "colab_type": "code",
        "colab": {
          "base_uri": "https://localhost:8080/",
          "height": 286
        },
        "outputId": "b8c6e36a-a582-4b44-f0a9-0ed9d4e7888b"
      },
      "cell_type": "code",
      "source": [
        "#Displaying the image\n",
        "\n",
        "img = A[0,:].reshape(28,28)\n",
        "plt.grid(False)\n",
        "plt.imshow(img,cmap = \"gray\")"
      ],
      "execution_count": 3,
      "outputs": [
        {
          "output_type": "execute_result",
          "data": {
            "text/plain": [
              "<matplotlib.image.AxesImage at 0x7fba458abfd0>"
            ]
          },
          "metadata": {
            "tags": []
          },
          "execution_count": 3
        },
        {
          "output_type": "display_data",
          "data": {
            "image/png": "[encoded data removed]",
            "text/plain": [
              "<Figure size 432x288 with 1 Axes>"
            ]
          },
          "metadata": {
            "tags": []
          }
        }
      ]
    },
    {
      "metadata": {
        "id": "qrz_tKooygl7",
        "colab_type": "code",
        "colab": {
          "base_uri": "https://localhost:8080/",
          "height": 34
        },
        "outputId": "15fc1d85-f448-401b-b234-b2dc90ed175f"
      },
      "cell_type": "code",
      "source": [
        "#Getting information about the data\n",
        "print(np.unique(B,return_counts = True))"
      ],
      "execution_count": 4,
      "outputs": [
        {
          "output_type": "stream",
          "text": [
            "(array([0, 2, 3, 6]), array([2000, 2000, 2000, 2000]))\n"
          ],
          "name": "stdout"
        }
      ]
    },
    {
      "metadata": {
        "id": "qcsK_fUW1NgX",
        "colab_type": "text"
      },
      "cell_type": "markdown",
      "source": [
        "#Altering the data according to the need"
      ]
    },
    {
      "metadata": {
        "id": "_RRHbM9fygoT",
        "colab_type": "code",
        "colab": {
          "base_uri": "https://localhost:8080/",
          "height": 52
        },
        "outputId": "695e86d6-d426-4a27-91b6-ad2f4bfb1648"
      },
      "cell_type": "code",
      "source": [
        "#Changing the labels\n",
        "B[B == 2] = 1\n",
        "B[B == 3] = 2\n",
        "B[B == 6] = 3\n",
        "\n",
        "print(A.shape)\n",
        "print(B.shape)"
      ],
      "execution_count": 5,
      "outputs": [
        {
          "output_type": "stream",
          "text": [
            "(8000, 784)\n",
            "(8000,)\n"
          ],
          "name": "stdout"
        }
      ]
    },
    {
      "metadata": {
        "id": "atFeIYw1yg36",
        "colab_type": "code",
        "colab": {
          "base_uri": "https://localhost:8080/",
          "height": 104
        },
        "outputId": "486008f8-522d-41ca-bcb7-339d26c3af03"
      },
      "cell_type": "code",
      "source": [
        "#Shuffling the data\n",
        "data = np.concatenate((A,B[:,None]) , axis = 1)\n",
        "df = pd.DataFrame(data)\n",
        "df = df.sample(frac = 1).reset_index(drop = True)\n",
        "data = df.values\n",
        "data[:100,-1]"
      ],
      "execution_count": 6,
      "outputs": [
        {
          "output_type": "execute_result",
          "data": {
            "text/plain": [
              "array([3, 0, 3, 1, 1, 3, 1, 3, 0, 2, 2, 3, 2, 0, 3, 2, 0, 1, 1, 2, 2, 2,\n",
              "       3, 3, 3, 1, 0, 2, 3, 2, 0, 1, 0, 0, 3, 1, 3, 3, 1, 0, 2, 0, 2, 1,\n",
              "       1, 1, 2, 0, 2, 3, 1, 2, 0, 1, 3, 3, 3, 1, 1, 2, 3, 1, 3, 1, 1, 3,\n",
              "       1, 2, 2, 2, 0, 0, 0, 3, 2, 0, 0, 3, 0, 0, 1, 1, 3, 2, 3, 0, 0, 3,\n",
              "       1, 2, 0, 3, 2, 1, 1, 0, 0, 0, 0, 0])"
            ]
          },
          "metadata": {
            "tags": []
          },
          "execution_count": 6
        }
      ]
    },
    {
      "metadata": {
        "id": "u5n8qbUn4IVl",
        "colab_type": "text"
      },
      "cell_type": "markdown",
      "source": [
        "#Dividing the data into training and tesing"
      ]
    },
    {
      "metadata": {
        "id": "k4C0kQNSyhbM",
        "colab_type": "code",
        "colab": {
          "base_uri": "https://localhost:8080/",
          "height": 34
        },
        "outputId": "a13abd82-0d41-40ab-fe1d-e42f119212fa"
      },
      "cell_type": "code",
      "source": [
        "A_train = data[:7000,:784] / 255.0\n",
        "B_train = data[:7000,-1]\n",
        "\n",
        "A_val = data[7000:,:784] / 255.0\n",
        "B_val = data[7000:,-1]\n",
        "\n",
        "print(A_train.shape, B_train.shape)"
      ],
      "execution_count": 7,
      "outputs": [
        {
          "output_type": "stream",
          "text": [
            "(7000, 784) (7000,)\n"
          ],
          "name": "stdout"
        }
      ]
    },
    {
      "metadata": {
        "id": "q7N_or9C4lRn",
        "colab_type": "text"
      },
      "cell_type": "markdown",
      "source": [
        "#Building The Neural Network"
      ]
    },
    {
      "metadata": {
        "id": "3lEx-5wiyhUF",
        "colab_type": "code",
        "colab": {}
      },
      "cell_type": "code",
      "source": [
        "class Net(torch.nn.Module):\n",
        "    def __init__(self,n_feature,hidden_1,hidden_2,hidden_3,hidden_4,n_output):\n",
        "        super(Net,self).__init__()\n",
        "        self.hidden_1 = torch.nn.Linear(n_feature,hidden_1)\n",
        "        self.hidden_2 = torch.nn.Linear(hidden_1,hidden_2)\n",
        "        self.hidden_3 = torch.nn.Linear(hidden_2,hidden_3)\n",
        "        self.hidden_4 = torch.nn.Linear(hidden_3,hidden_4)\n",
        "        self.n_output = torch.nn.Linear(hidden_4,n_output)\n",
        "        \n",
        "    def forward(self,x):\n",
        "        x = NN.relu(self.hidden_1(x))\n",
        "        x = NN.relu(self.hidden_2(x))\n",
        "        x = NN.relu(self.hidden_3(x))\n",
        "        x = NN.relu(self.hidden_4(x))\n",
        "        x = NN.log_softmax(self.n_output(x))\n",
        "        return x"
      ],
      "execution_count": 0,
      "outputs": []
    },
    {
      "metadata": {
        "id": "F7yMsWp0Eyg5",
        "colab_type": "text"
      },
      "cell_type": "markdown",
      "source": [
        "784 -> 500 -> 250 -> 100 -> 16 -> 4"
      ]
    },
    {
      "metadata": {
        "id": "ZrtbpPTFyhBf",
        "colab_type": "code",
        "colab": {
          "base_uri": "https://localhost:8080/",
          "height": 139
        },
        "outputId": "6cc6f5e1-2e29-46d6-b106-75d62d71ab6a"
      },
      "cell_type": "code",
      "source": [
        "net = Net(n_feature = 784, hidden_1 = 500, hidden_2 = 250, hidden_3 = 100, hidden_4 = 16, n_output = 4)\n",
        "print(net)\n",
        "\n",
        "loss_func = torch.nn.CrossEntropyLoss()\n",
        "opt=torch.optim.Adam(net.parameters(),lr=0.001)"
      ],
      "execution_count": 9,
      "outputs": [
        {
          "output_type": "stream",
          "text": [
            "Net(\n",
            "  (hidden_1): Linear(in_features=784, out_features=500, bias=True)\n",
            "  (hidden_2): Linear(in_features=500, out_features=250, bias=True)\n",
            "  (hidden_3): Linear(in_features=250, out_features=100, bias=True)\n",
            "  (hidden_4): Linear(in_features=100, out_features=16, bias=True)\n",
            "  (n_output): Linear(in_features=16, out_features=4, bias=True)\n",
            ")\n"
          ],
          "name": "stdout"
        }
      ]
    },
    {
      "metadata": {
        "id": "I2FbV3qrFGXo",
        "colab_type": "text"
      },
      "cell_type": "markdown",
      "source": [
        "#Conversion to Tensors"
      ]
    },
    {
      "metadata": {
        "id": "el6dtjHZyg2Y",
        "colab_type": "code",
        "colab": {}
      },
      "cell_type": "code",
      "source": [
        "A1 = torch.tensor(A_train).type(torch.FloatTensor)\n",
        "B1 = torch.tensor(B_train).type(torch.FloatTensor)\n",
        "\n",
        "A_train = Variable(A1, requires_grad=True).type(torch.FloatTensor)\n",
        "B_train = Variable(B1, requires_grad=False).type(torch.LongTensor)"
      ],
      "execution_count": 0,
      "outputs": []
    },
    {
      "metadata": {
        "id": "zKUnKbXnFORL",
        "colab_type": "text"
      },
      "cell_type": "markdown",
      "source": [
        "#Training the Model"
      ]
    },
    {
      "metadata": {
        "id": "MBvEwqjuygyj",
        "colab_type": "code",
        "colab": {
          "base_uri": "https://localhost:8080/",
          "height": 2078
        },
        "outputId": "4ca0a267-b1a5-4c39-cd3a-b1e252d0e8af"
      },
      "cell_type": "code",
      "source": [
        "error = []\n",
        "\n",
        "for ix in range(100):\n",
        "    \n",
        "    out = net(A_train)\n",
        "    loss = loss_func(out,B_train)\n",
        "    \n",
        "    opt.zero_grad()\n",
        "    loss.backward()\n",
        "    opt.step()\n",
        "    \n",
        "    error.append(loss)\n",
        "    print(loss)\n",
        "    \n",
        "plt.plot(error[:])"
      ],
      "execution_count": 11,
      "outputs": [
        {
          "output_type": "stream",
          "text": [
            "/usr/local/lib/python3.6/dist-packages/ipykernel_launcher.py:15: UserWarning: Implicit dimension choice for log_softmax has been deprecated. Change the call to include dim=X as an argument.\n",
            "  from ipykernel import kernelapp as app\n"
          ],
          "name": "stderr"
        },
        {
          "output_type": "stream",
          "text": [
            "tensor(1.3965, grad_fn=<NllLossBackward>)\n",
            "tensor(1.3827, grad_fn=<NllLossBackward>)\n",
            "tensor(1.3650, grad_fn=<NllLossBackward>)\n",
            "tensor(1.3430, grad_fn=<NllLossBackward>)\n",
            "tensor(1.3137, grad_fn=<NllLossBackward>)\n",
            "tensor(1.2765, grad_fn=<NllLossBackward>)\n",
            "tensor(1.2337, grad_fn=<NllLossBackward>)\n",
            "tensor(1.1822, grad_fn=<NllLossBackward>)\n",
            "tensor(1.1275, grad_fn=<NllLossBackward>)\n",
            "tensor(1.0726, grad_fn=<NllLossBackward>)\n",
            "tensor(1.0202, grad_fn=<NllLossBackward>)\n",
            "tensor(0.9679, grad_fn=<NllLossBackward>)\n",
            "tensor(0.9177, grad_fn=<NllLossBackward>)\n",
            "tensor(0.8674, grad_fn=<NllLossBackward>)\n",
            "tensor(0.8201, grad_fn=<NllLossBackward>)\n",
            "tensor(0.7817, grad_fn=<NllLossBackward>)\n",
            "tensor(0.7491, grad_fn=<NllLossBackward>)\n",
            "tensor(0.7227, grad_fn=<NllLossBackward>)\n",
            "tensor(0.7056, grad_fn=<NllLossBackward>)\n",
            "tensor(0.6952, grad_fn=<NllLossBackward>)\n",
            "tensor(0.6866, grad_fn=<NllLossBackward>)\n",
            "tensor(0.6783, grad_fn=<NllLossBackward>)\n",
            "tensor(0.6747, grad_fn=<NllLossBackward>)\n",
            "tensor(0.6615, grad_fn=<NllLossBackward>)\n",
            "tensor(0.6506, grad_fn=<NllLossBackward>)\n",
            "tensor(0.6512, grad_fn=<NllLossBackward>)\n",
            "tensor(0.6473, grad_fn=<NllLossBackward>)\n",
            "tensor(0.6385, grad_fn=<NllLossBackward>)\n",
            "tensor(0.6346, grad_fn=<NllLossBackward>)\n",
            "tensor(0.6319, grad_fn=<NllLossBackward>)\n",
            "tensor(0.6269, grad_fn=<NllLossBackward>)\n",
            "tensor(0.6227, grad_fn=<NllLossBackward>)\n",
            "tensor(0.6210, grad_fn=<NllLossBackward>)\n",
            "tensor(0.6157, grad_fn=<NllLossBackward>)\n",
            "tensor(0.6111, grad_fn=<NllLossBackward>)\n",
            "tensor(0.6066, grad_fn=<NllLossBackward>)\n",
            "tensor(0.6030, grad_fn=<NllLossBackward>)\n",
            "tensor(0.6005, grad_fn=<NllLossBackward>)\n",
            "tensor(0.5951, grad_fn=<NllLossBackward>)\n",
            "tensor(0.5931, grad_fn=<NllLossBackward>)\n",
            "tensor(0.5920, grad_fn=<NllLossBackward>)\n",
            "tensor(0.5855, grad_fn=<NllLossBackward>)\n",
            "tensor(0.5829, grad_fn=<NllLossBackward>)\n",
            "tensor(0.5815, grad_fn=<NllLossBackward>)\n",
            "tensor(0.5749, grad_fn=<NllLossBackward>)\n",
            "tensor(0.5722, grad_fn=<NllLossBackward>)\n",
            "tensor(0.5693, grad_fn=<NllLossBackward>)\n",
            "tensor(0.5642, grad_fn=<NllLossBackward>)\n",
            "tensor(0.5619, grad_fn=<NllLossBackward>)\n",
            "tensor(0.5567, grad_fn=<NllLossBackward>)\n",
            "tensor(0.5532, grad_fn=<NllLossBackward>)\n",
            "tensor(0.5505, grad_fn=<NllLossBackward>)\n",
            "tensor(0.5459, grad_fn=<NllLossBackward>)\n",
            "tensor(0.5423, grad_fn=<NllLossBackward>)\n",
            "tensor(0.5384, grad_fn=<NllLossBackward>)\n",
            "tensor(0.5333, grad_fn=<NllLossBackward>)\n",
            "tensor(0.5297, grad_fn=<NllLossBackward>)\n",
            "tensor(0.5254, grad_fn=<NllLossBackward>)\n",
            "tensor(0.5210, grad_fn=<NllLossBackward>)\n",
            "tensor(0.5182, grad_fn=<NllLossBackward>)\n",
            "tensor(0.5163, grad_fn=<NllLossBackward>)\n",
            "tensor(0.5197, grad_fn=<NllLossBackward>)\n",
            "tensor(0.5269, grad_fn=<NllLossBackward>)\n",
            "tensor(0.5165, grad_fn=<NllLossBackward>)\n",
            "tensor(0.4976, grad_fn=<NllLossBackward>)\n",
            "tensor(0.5005, grad_fn=<NllLossBackward>)\n",
            "tensor(0.5025, grad_fn=<NllLossBackward>)\n",
            "tensor(0.4878, grad_fn=<NllLossBackward>)\n",
            "tensor(0.4875, grad_fn=<NllLossBackward>)\n",
            "tensor(0.4901, grad_fn=<NllLossBackward>)\n",
            "tensor(0.4779, grad_fn=<NllLossBackward>)\n",
            "tensor(0.4774, grad_fn=<NllLossBackward>)\n",
            "tensor(0.4800, grad_fn=<NllLossBackward>)\n",
            "tensor(0.4688, grad_fn=<NllLossBackward>)\n",
            "tensor(0.4685, grad_fn=<NllLossBackward>)\n",
            "tensor(0.4700, grad_fn=<NllLossBackward>)\n",
            "tensor(0.4617, grad_fn=<NllLossBackward>)\n",
            "tensor(0.4591, grad_fn=<NllLossBackward>)\n",
            "tensor(0.4618, grad_fn=<NllLossBackward>)\n",
            "tensor(0.4546, grad_fn=<NllLossBackward>)\n",
            "tensor(0.4499, grad_fn=<NllLossBackward>)\n",
            "tensor(0.4525, grad_fn=<NllLossBackward>)\n",
            "tensor(0.4493, grad_fn=<NllLossBackward>)\n",
            "tensor(0.4425, grad_fn=<NllLossBackward>)\n",
            "tensor(0.4410, grad_fn=<NllLossBackward>)\n",
            "tensor(0.4420, grad_fn=<NllLossBackward>)\n",
            "tensor(0.4390, grad_fn=<NllLossBackward>)\n",
            "tensor(0.4323, grad_fn=<NllLossBackward>)\n",
            "tensor(0.4309, grad_fn=<NllLossBackward>)\n",
            "tensor(0.4311, grad_fn=<NllLossBackward>)\n",
            "tensor(0.4296, grad_fn=<NllLossBackward>)\n",
            "tensor(0.4249, grad_fn=<NllLossBackward>)\n",
            "tensor(0.4204, grad_fn=<NllLossBackward>)\n",
            "tensor(0.4192, grad_fn=<NllLossBackward>)\n",
            "tensor(0.4194, grad_fn=<NllLossBackward>)\n",
            "tensor(0.4178, grad_fn=<NllLossBackward>)\n",
            "tensor(0.4145, grad_fn=<NllLossBackward>)\n",
            "tensor(0.4108, grad_fn=<NllLossBackward>)\n",
            "tensor(0.4068, grad_fn=<NllLossBackward>)\n",
            "tensor(0.4049, grad_fn=<NllLossBackward>)\n"
          ],
          "name": "stdout"
        },
        {
          "output_type": "execute_result",
          "data": {
            "text/plain": [
              "[<matplotlib.lines.Line2D at 0x7fba43825e80>]"
            ]
          },
          "metadata": {
            "tags": []
          },
          "execution_count": 11
        },
        {
          "output_type": "display_data",
          "data": {
            "image/png": "[encoded data removed]",
            "text/plain": [
              "<Figure size 432x288 with 1 Axes>"
            ]
          },
          "metadata": {
            "tags": []
          }
        }
      ]
    },
    {
      "metadata": {
        "id": "WJ7wmrJmF40-",
        "colab_type": "text"
      },
      "cell_type": "markdown",
      "source": [
        "#Conversion of Validaton Data"
      ]
    },
    {
      "metadata": {
        "id": "almo7pioygkY",
        "colab_type": "code",
        "colab": {
          "base_uri": "https://localhost:8080/",
          "height": 72
        },
        "outputId": "ce2eaf91-043c-4e33-99a8-5fdf81ac63ca"
      },
      "cell_type": "code",
      "source": [
        "A_val = torch.Tensor(A_val)\n",
        "A_val = Variable(A_val, requires_grad = True).type(torch.FloatTensor)\n",
        "\n",
        "out_val = net(A_val)\n",
        "\n",
        "#Choosig the one with highest probability\n",
        "out_final = out_val.data.numpy().argmax(axis=1)"
      ],
      "execution_count": 12,
      "outputs": [
        {
          "output_type": "stream",
          "text": [
            "/usr/local/lib/python3.6/dist-packages/ipykernel_launcher.py:15: UserWarning: Implicit dimension choice for log_softmax has been deprecated. Change the call to include dim=X as an argument.\n",
            "  from ipykernel import kernelapp as app\n"
          ],
          "name": "stderr"
        }
      ]
    },
    {
      "metadata": {
        "id": "K9vuaq0DGWcL",
        "colab_type": "text"
      },
      "cell_type": "markdown",
      "source": [
        "#Printing The Accuracy"
      ]
    },
    {
      "metadata": {
        "id": "kOe3a-KRygZx",
        "colab_type": "code",
        "colab": {
          "base_uri": "https://localhost:8080/",
          "height": 34
        },
        "outputId": "5a7563b8-ec0c-42d1-c69f-215a43dc63c1"
      },
      "cell_type": "code",
      "source": [
        "acc = ((out_final == B_val).sum()/ (A_val.shape[0])) * 100\n",
        "print(acc)"
      ],
      "execution_count": 13,
      "outputs": [
        {
          "output_type": "stream",
          "text": [
            "82.5\n"
          ],
          "name": "stdout"
        }
      ]
    },
    {
      "metadata": {
        "id": "MkhBqM5jGnCP",
        "colab_type": "text"
      },
      "cell_type": "markdown",
      "source": [
        "#Working with the Test data"
      ]
    },
    {
      "metadata": {
        "id": "7Wsp22AGxXqz",
        "colab_type": "code",
        "colab": {}
      },
      "cell_type": "code",
      "source": [
        "with open('test_image.pkl','rb') as tst:\n",
        "  test = pickle.load(tst)\n",
        "\n",
        "type(test)\n",
        "\n",
        "#Converting to Array\n",
        "test_set = np.array(test)"
      ],
      "execution_count": 0,
      "outputs": []
    },
    {
      "metadata": {
        "id": "MmCZWESd5jDb",
        "colab_type": "code",
        "colab": {}
      },
      "cell_type": "code",
      "source": [
        "test_datas = test_set[:,:] / 255.0\n",
        "\n",
        "#Converting to Tensor\n",
        "test_datas = torch.Tensor(test_datas)\n",
        "test_datas = Variable(test_datas, requires_grad = True).type(torch.FloatTensor)"
      ],
      "execution_count": 0,
      "outputs": []
    },
    {
      "metadata": {
        "id": "6bunB4v1MBwz",
        "colab_type": "text"
      },
      "cell_type": "markdown",
      "source": [
        "#Storing the final results"
      ]
    },
    {
      "metadata": {
        "id": "UMc_X-OX5jHh",
        "colab_type": "code",
        "colab": {
          "base_uri": "https://localhost:8080/",
          "height": 72
        },
        "outputId": "a82ab83c-b7b8-49de-eb87-098dce0776e3"
      },
      "cell_type": "code",
      "source": [
        "output_test = net(test_datas)\n",
        "output_final = output_test.data.numpy().argmax(axis=1)"
      ],
      "execution_count": 16,
      "outputs": [
        {
          "output_type": "stream",
          "text": [
            "/usr/local/lib/python3.6/dist-packages/ipykernel_launcher.py:15: UserWarning: Implicit dimension choice for log_softmax has been deprecated. Change the call to include dim=X as an argument.\n",
            "  from ipykernel import kernelapp as app\n"
          ],
          "name": "stderr"
        }
      ]
    },
    {
      "metadata": {
        "id": "xnHxn8i1J1cE",
        "colab_type": "code",
        "colab": {}
      },
      "cell_type": "code",
      "source": [
        "for ix in range(2000):\n",
        "  if output_final[ix] == 1:\n",
        "    output_final[ix] = 2\n",
        "    \n",
        "  elif output_final[ix] == 2:\n",
        "    output_final[ix] = 3\n",
        "    \n",
        "  elif output_final[ix] == 3:\n",
        "    output_final[ix] = 6"
      ],
      "execution_count": 0,
      "outputs": []
    },
    {
      "metadata": {
        "id": "UhLJ_YDx5wEo",
        "colab_type": "code",
        "colab": {
          "base_uri": "https://localhost:8080/",
          "height": 521
        },
        "outputId": "98e9fbaf-f990-4027-b779-e6ba1c953f21"
      },
      "cell_type": "code",
      "source": [
        "print(np.unique(output_final,return_counts = True))\n",
        "\n",
        "print(output_final[:1000])"
      ],
      "execution_count": 18,
      "outputs": [
        {
          "output_type": "stream",
          "text": [
            "(array([0, 2, 3, 6]), array([504, 532, 523, 441]))\n",
            "[0 0 0 0 0 0 0 0 0 0 0 0 0 0 0 0 0 6 0 0 0 0 0 0 0 0 6 0 0 0 0 0 0 0 6 0 0\n",
            " 6 0 0 6 0 0 0 0 0 6 2 0 0 0 0 0 0 0 0 0 0 0 0 3 3 0 0 3 0 0 0 0 0 0 0 0 0\n",
            " 6 0 0 0 0 0 0 0 0 0 0 0 0 0 0 0 0 3 0 0 0 0 0 0 6 0 0 0 0 0 0 2 0 0 2 0 0\n",
            " 0 0 0 3 3 6 0 0 0 0 6 0 0 3 6 3 0 0 0 0 6 0 0 0 6 0 0 6 0 0 0 3 0 0 0 0 0\n",
            " 0 0 6 0 6 3 0 0 0 0 0 0 3 0 0 0 0 0 6 0 0 0 0 0 0 0 0 0 0 0 0 0 0 0 0 0 0\n",
            " 6 0 6 0 0 0 0 3 0 0 0 0 0 0 0 0 0 0 0 0 0 0 0 0 0 0 0 0 0 0 0 0 0 0 0 0 0\n",
            " 3 0 0 0 0 0 0 0 0 0 0 6 0 0 0 0 0 0 0 0 0 0 0 0 0 0 6 0 0 6 0 0 6 0 0 0 0\n",
            " 0 0 0 0 0 2 6 0 0 0 0 0 0 2 0 0 0 0 0 0 0 0 0 0 0 0 6 0 6 6 0 2 3 0 0 0 2\n",
            " 0 0 0 0 0 3 0 0 0 0 6 0 0 0 0 0 0 2 0 0 0 0 0 3 0 0 6 6 0 0 0 0 0 0 0 0 0\n",
            " 0 0 0 0 6 0 6 0 0 0 0 0 0 6 6 0 0 6 0 6 0 0 0 0 3 6 0 0 0 0 0 0 0 0 6 0 0\n",
            " 0 0 0 0 0 0 0 6 0 0 0 0 0 0 0 0 0 0 0 0 0 0 0 0 3 0 6 0 0 0 6 6 2 6 0 0 0\n",
            " 0 0 0 2 0 0 0 0 0 6 0 0 0 0 0 0 0 0 2 0 0 0 0 6 6 0 0 6 0 6 0 3 0 0 0 0 0\n",
            " 0 0 0 0 0 0 0 0 0 0 0 0 0 0 6 0 0 0 0 0 0 0 0 0 6 0 6 0 0 0 3 0 0 0 6 3 0\n",
            " 0 0 0 0 0 0 0 0 0 0 0 0 6 6 0 6 0 0 0 2 2 2 2 2 6 2 2 3 2 2 2 2 2 2 2 2 2\n",
            " 2 2 2 2 2 2 2 2 2 2 2 2 3 6 2 2 2 2 2 2 2 2 2 2 6 2 2 2 2 2 2 2 0 2 2 2 2\n",
            " 2 2 2 2 2 2 2 2 2 2 2 2 2 2 2 2 2 2 6 2 2 2 2 2 2 2 2 2 2 2 6 2 2 2 2 0 2\n",
            " 0 2 2 2 2 2 2 2 2 2 2 2 2 2 2 2 6 2 2 2 2 2 2 2 6 2 2 2 2 2 2 2 2 2 2 6 2\n",
            " 2 2 2 2 2 2 2 2 3 2 2 2 2 2 2 2 2 3 2 2 2 2 2 2 2 2 2 6 2 2 6 2 2 2 2 2 6\n",
            " 6 6 2 2 2 2 2 6 2 2 2 6 6 2 2 2 2 2 2 2 2 2 2 6 2 2 2 2 2 2 2 2 2 2 2 2 2\n",
            " 2 2 2 2 2 2 2 2 2 2 2 3 2 2 2 2 3 2 6 2 2 2 2 2 2 2 2 2 2 2 2 2 2 2 2 2 2\n",
            " 2 2 2 6 2 2 2 2 2 2 6 2 2 2 2 2 2 2 2 2 2 2 2 6 2 2 2 2 2 2 2 2 2 2 2 2 2\n",
            " 2 2 6 2 2 2 2 2 2 2 2 2 2 2 2 2 2 2 2 6 2 6 2 2 2 2 2 2 2 2 2 2 2 2 2 2 2\n",
            " 2 6 2 2 2 2 2 2 2 2 2 2 2 2 2 2 2 2 6 3 6 2 2 2 2 6 2 2 2 2 2 6 2 2 2 2 2\n",
            " 2 2 2 2 2 2 2 2 2 2 3 2 2 2 2 3 2 2 2 6 2 6 0 6 2 2 2 2 2 2 2 2 2 2 0 2 2\n",
            " 2 2 6 2 2 2 2 2 2 2 2 2 2 3 2 2 2 2 2 2 2 2 2 2 2 2 2 2 2 3 2 2 2 2 2 2 2\n",
            " 2 2 2 2 2 2 6 2 2 2 0 2 2 2 2 6 2 2 2 2 2 2 2 2 2 2 2 2 2 2 2 2 2 2 2 6 2\n",
            " 2 2 2 2 2 2 2 2 2 2 2 2 2 2 2 2 2 2 2 2 2 2 2 2 2 2 2 2 6 2 2 2 2 2 2 2 2\n",
            " 2]\n"
          ],
          "name": "stdout"
        }
      ]
    },
    {
      "metadata": {
        "id": "wNZgyBmlMM6q",
        "colab_type": "text"
      },
      "cell_type": "markdown",
      "source": [
        "#Saving the result in the respective .csv file"
      ]
    },
    {
      "metadata": {
        "id": "xfj3JsjX5wHG",
        "colab_type": "code",
        "colab": {}
      },
      "cell_type": "code",
      "source": [
        "pd.DataFrame(output_final).to_csv('./Priyam_Garg.csv',header = True, index = False)"
      ],
      "execution_count": 0,
      "outputs": []
    }
  ]
}