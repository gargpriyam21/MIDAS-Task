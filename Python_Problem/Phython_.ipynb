{
 "cells": [
  {
   "cell_type": "markdown",
   "metadata": {},
   "source": [
    "# Loading The Required Librariries\n",
    "\n",
    "Using these libraries as:\n",
    "\n",
    "- tweepy for reading tweets\n",
    "- pandas for stroring data\n",
    "- jsonlines for jsonl parsing"
   ]
  },
  {
   "cell_type": "code",
   "execution_count": 1,
   "metadata": {},
   "outputs": [],
   "source": [
    "import tweepy\n",
    "import pandas as pd\n",
    "import jsonlines"
   ]
  },
  {
   "cell_type": "markdown",
   "metadata": {},
   "source": [
    "# Initialising The Credentials\n",
    "\n",
    "Defining the credentials used for extracting the tweets"
   ]
  },
  {
   "cell_type": "code",
   "execution_count": 2,
   "metadata": {},
   "outputs": [],
   "source": [
    "Consumer_Key = \"VQj7v8cluOnLy80MGdiciSaVk\" \n",
    "Consumer_Key_Secret = \"8xCtBM0deHXSE35q9ff0zn1V70iPwpnbLbeRkilFXgk1LMFPqE\"\n",
    "Access_Key = \"1083747517475491840-KWhc1XdRu9ZTU8F90JRvJoCOeKNga5\"\n",
    "Access_Key_Secret = \"TE1l9SR7Mck72evbCvabiXrtd27eE3DjV7w9uStGlTBY5\""
   ]
  },
  {
   "cell_type": "markdown",
   "metadata": {},
   "source": [
    "# Function to Extract Tweets"
   ]
  },
  {
   "cell_type": "code",
   "execution_count": 3,
   "metadata": {},
   "outputs": [],
   "source": [
    "def get_tweets(username): \n",
    "    \n",
    "    \n",
    "        #Authentication Using the Credentials \n",
    "        auth = tweepy.OAuthHandler(Consumer_Key, Consumer_Key_Secret) \n",
    "        auth.set_access_token(Access_Key, Access_Key_Secret) \n",
    "        api = tweepy.API(auth) \n",
    "        \n",
    "        #Selecting the 200 tweets (Limit)\n",
    "        tweets = api.user_timeline(username,count=200)\n",
    "        \n",
    "        #Initialising the Empty List \n",
    "        twts=[]  \n",
    "        \n",
    "        #Appending all the tweets in the twts list\n",
    "        for j in tweets: \n",
    "            twts.append(j._json)  \n",
    "            \n",
    "        #Dumping the data into the JSONL file\n",
    "        with jsonlines.open('MIDAS_Tweets.jsonl', 'w') as twt:\n",
    "            twt.write(twts)"
   ]
  },
  {
   "cell_type": "markdown",
   "metadata": {},
   "source": [
    "# Parsing the Data"
   ]
  },
  {
   "cell_type": "code",
   "execution_count": 4,
   "metadata": {},
   "outputs": [],
   "source": [
    "def parse_tweets(path):\n",
    "    \n",
    "    #Initialising the list\n",
    "    twts = None\n",
    "    \n",
    "    #Copying the data from jsonl to the list\n",
    "    with jsonlines.open(path, 'r') as t:\n",
    "        twts = t.read()\n",
    "        \n",
    "    #Creating the dataframe's structure\n",
    "    Data = [[twt['text'], twt['created_at'], twt['favorite_count'], twt['retweet_count']] for twt in twts]\n",
    "    Col = ['Text', 'Created At', 'Number of Likes', 'Number of Retweets']\n",
    "    \n",
    "    #Creating the Dataframe\n",
    "    datfram = pd.DataFrame(data = Data, columns = Col)\n",
    "    \n",
    "    #Checking for the Occurences of Images\n",
    "    datfram['Number of Images'] = [len([img for img in twt['extended_entities']['media'] if img['type'] == 'photo'])\n",
    "                        if 'extended_entities' in twt else None for twt in twts]\n",
    "    \n",
    "    return datfram"
   ]
  },
  {
   "cell_type": "markdown",
   "metadata": {},
   "source": [
    "# Driver Code"
   ]
  },
  {
   "cell_type": "code",
   "execution_count": 6,
   "metadata": {},
   "outputs": [],
   "source": [
    "#Getting the Tweets and storing them in jsonl file\n",
    "get_tweets(\"midasIIItd\")  \n",
    "\n",
    "#Geeting the data from jsonl file and storing them in csv file\n",
    "parse_tweets('MIDAS_Tweets.jsonl').to_csv('MIDAS_Tweets.csv', header=True, index=False, encoding = 'utf-8')"
   ]
  },
  {
   "cell_type": "markdown",
   "metadata": {},
   "source": [
    "# Displaying the Data"
   ]
  },
  {
   "cell_type": "code",
   "execution_count": 7,
   "metadata": {},
   "outputs": [
    {
     "data": {
      "text/html": [
       "<div>\n",
       "<table border=\"1\" class=\"dataframe\">\n",
       "  <thead>\n",
       "    <tr style=\"text-align: right;\">\n",
       "      <th></th>\n",
       "      <th>Text</th>\n",
       "      <th>Created At</th>\n",
       "      <th>Number of Likes</th>\n",
       "      <th>Number of Retweets</th>\n",
       "      <th>Number of Images</th>\n",
       "    </tr>\n",
       "  </thead>\n",
       "  <tbody>\n",
       "    <tr>\n",
       "      <th>0</th>\n",
       "      <td>Many Congratulations to @midasIIITD student, S...</td>\n",
       "      <td>Mon Apr 08 07:08:12 +0000 2019</td>\n",
       "      <td>13</td>\n",
       "      <td>2</td>\n",
       "      <td>NaN</td>\n",
       "    </tr>\n",
       "    <tr>\n",
       "      <th>1</th>\n",
       "      <td>@midasIIITD thanks all students who have appea...</td>\n",
       "      <td>Mon Apr 08 03:27:42 +0000 2019</td>\n",
       "      <td>3</td>\n",
       "      <td>0</td>\n",
       "      <td>NaN</td>\n",
       "    </tr>\n",
       "    <tr>\n",
       "      <th>2</th>\n",
       "      <td>@himanchalchandr Meanwhile, complete CV/NLP ta...</td>\n",
       "      <td>Sun Apr 07 14:17:29 +0000 2019</td>\n",
       "      <td>0</td>\n",
       "      <td>0</td>\n",
       "      <td>NaN</td>\n",
       "    </tr>\n",
       "    <tr>\n",
       "      <th>3</th>\n",
       "      <td>@sayangdipto123 Submit as per the guideline ag...</td>\n",
       "      <td>Sun Apr 07 14:17:09 +0000 2019</td>\n",
       "      <td>0</td>\n",
       "      <td>0</td>\n",
       "      <td>NaN</td>\n",
       "    </tr>\n",
       "    <tr>\n",
       "      <th>4</th>\n",
       "      <td>We request all students whose interview are sc...</td>\n",
       "      <td>Sun Apr 07 11:43:24 +0000 2019</td>\n",
       "      <td>1</td>\n",
       "      <td>1</td>\n",
       "      <td>NaN</td>\n",
       "    </tr>\n",
       "    <tr>\n",
       "      <th>5</th>\n",
       "      <td>Other queries: \"none of the Tweeter Apis give ...</td>\n",
       "      <td>Sun Apr 07 06:55:19 +0000 2019</td>\n",
       "      <td>5</td>\n",
       "      <td>2</td>\n",
       "      <td>NaN</td>\n",
       "    </tr>\n",
       "    <tr>\n",
       "      <th>6</th>\n",
       "      <td>Other queries: \"do we have to make two differe...</td>\n",
       "      <td>Sun Apr 07 06:53:38 +0000 2019</td>\n",
       "      <td>4</td>\n",
       "      <td>1</td>\n",
       "      <td>NaN</td>\n",
       "    </tr>\n",
       "    <tr>\n",
       "      <th>7</th>\n",
       "      <td>Other queries: \"If using Twitter api, it does ...</td>\n",
       "      <td>Sun Apr 07 05:32:27 +0000 2019</td>\n",
       "      <td>6</td>\n",
       "      <td>1</td>\n",
       "      <td>NaN</td>\n",
       "    </tr>\n",
       "    <tr>\n",
       "      <th>8</th>\n",
       "      <td>Response to some queries asked by students on ...</td>\n",
       "      <td>Sun Apr 07 05:29:40 +0000 2019</td>\n",
       "      <td>7</td>\n",
       "      <td>1</td>\n",
       "      <td>NaN</td>\n",
       "    </tr>\n",
       "    <tr>\n",
       "      <th>9</th>\n",
       "      <td>RT @kdnuggets: Top 8 #Free Must-Read #Books on...</td>\n",
       "      <td>Sat Apr 06 17:11:29 +0000 2019</td>\n",
       "      <td>0</td>\n",
       "      <td>2</td>\n",
       "      <td>NaN</td>\n",
       "    </tr>\n",
       "  </tbody>\n",
       "</table>\n",
       "</div>"
      ],
      "text/plain": [
       "                                                Text  \\\n",
       "0  Many Congratulations to @midasIIITD student, S...   \n",
       "1  @midasIIITD thanks all students who have appea...   \n",
       "2  @himanchalchandr Meanwhile, complete CV/NLP ta...   \n",
       "3  @sayangdipto123 Submit as per the guideline ag...   \n",
       "4  We request all students whose interview are sc...   \n",
       "5  Other queries: \"none of the Tweeter Apis give ...   \n",
       "6  Other queries: \"do we have to make two differe...   \n",
       "7  Other queries: \"If using Twitter api, it does ...   \n",
       "8  Response to some queries asked by students on ...   \n",
       "9  RT @kdnuggets: Top 8 #Free Must-Read #Books on...   \n",
       "\n",
       "                       Created At  Number of Likes  Number of Retweets  \\\n",
       "0  Mon Apr 08 07:08:12 +0000 2019               13                   2   \n",
       "1  Mon Apr 08 03:27:42 +0000 2019                3                   0   \n",
       "2  Sun Apr 07 14:17:29 +0000 2019                0                   0   \n",
       "3  Sun Apr 07 14:17:09 +0000 2019                0                   0   \n",
       "4  Sun Apr 07 11:43:24 +0000 2019                1                   1   \n",
       "5  Sun Apr 07 06:55:19 +0000 2019                5                   2   \n",
       "6  Sun Apr 07 06:53:38 +0000 2019                4                   1   \n",
       "7  Sun Apr 07 05:32:27 +0000 2019                6                   1   \n",
       "8  Sun Apr 07 05:29:40 +0000 2019                7                   1   \n",
       "9  Sat Apr 06 17:11:29 +0000 2019                0                   2   \n",
       "\n",
       "   Number of Images  \n",
       "0               NaN  \n",
       "1               NaN  \n",
       "2               NaN  \n",
       "3               NaN  \n",
       "4               NaN  \n",
       "5               NaN  \n",
       "6               NaN  \n",
       "7               NaN  \n",
       "8               NaN  \n",
       "9               NaN  "
      ]
     },
     "execution_count": 7,
     "metadata": {},
     "output_type": "execute_result"
    }
   ],
   "source": [
    "midas_df = pd.read_csv('MIDAS_Tweets.csv')\n",
    "midas_df.head(10)"
   ]
  },
  {
   "cell_type": "code",
   "execution_count": null,
   "metadata": {},
   "outputs": [],
   "source": []
  }
 ],
 "metadata": {
  "kernelspec": {
   "display_name": "Python 2",
   "language": "python",
   "name": "python2"
  },
  "language_info": {
   "codemirror_mode": {
    "name": "ipython",
    "version": 2
   },
   "file_extension": ".py",
   "mimetype": "text/x-python",
   "name": "python",
   "nbconvert_exporter": "python",
   "pygments_lexer": "ipython2",
   "version": "2.7.12"
  }
 },
 "nbformat": 4,
 "nbformat_minor": 2
}
