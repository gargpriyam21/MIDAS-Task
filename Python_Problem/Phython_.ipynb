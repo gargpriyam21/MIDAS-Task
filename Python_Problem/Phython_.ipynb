{
 "cells": [
  {
   "cell_type": "markdown",
   "metadata": {},
   "source": [
    "# Loading The Required Librariries\n",
    "\n",
    "Using these libraries as:\n",
    "\n",
    "- tweepy for reading tweets\n",
    "- pandas for stroring data\n",
    "- jsonlines for jsonl parsing"
   ]
  },
  {
   "cell_type": "code",
   "execution_count": null,
   "metadata": {},
   "outputs": [],
   "source": [
    "import tweepy\n",
    "import pandas as pd\n",
    "import jsonlines"
   ]
  },
  {
   "cell_type": "markdown",
   "metadata": {},
   "source": [
    "# Initialising The Credentials\n",
    "\n",
    "Defining the credentials used for extracting the tweets"
   ]
  },
  {
   "cell_type": "code",
   "execution_count": null,
   "metadata": {},
   "outputs": [],
   "source": [
    "Consumer_Key = \"\" \n",
    "Consumer_Key_Secret = \"\"\n",
    "Access_Key = \"\"\n",
    "Access_Key_Secret = \"\""
   ]
  },
  {
   "cell_type": "markdown",
   "metadata": {},
   "source": [
    "# Function to Extract Tweets"
   ]
  },
  {
   "cell_type": "code",
   "execution_count": null,
   "metadata": {},
   "outputs": [],
   "source": [
    "def get_tweets(username): \n",
    "    \n",
    "    \n",
    "        #Authentication Using the Credentials \n",
    "        auth = tweepy.OAuthHandler(Consumer_Key, Consumer_Key_Secret) \n",
    "        auth.set_access_token(Access_Key, Access_Key_Secret) \n",
    "        api = tweepy.API(auth) \n",
    "        \n",
    "        #Selecting the 200 tweets (Limit)\n",
    "        tweets = api.user_timeline(username,count=200)\n",
    "        \n",
    "        #Initialising the Empty List \n",
    "        twts=[]  \n",
    "        \n",
    "        #Appending all the tweets in the twts list\n",
    "        for j in tweets: \n",
    "            twts.append(j._json)  \n",
    "            \n",
    "        #Dumping the data into the JSONL file\n",
    "        with jsonlines.open('MIDAS_Tweets.jsonl', 'w') as twt:\n",
    "            twt.write(twts)"
   ]
  },
  {
   "cell_type": "markdown",
   "metadata": {},
   "source": [
    "# Parsing the Data"
   ]
  },
  {
   "cell_type": "code",
   "execution_count": null,
   "metadata": {},
   "outputs": [],
   "source": [
    "def parse_tweets(path):\n",
    "    \n",
    "    #Initialising the list\n",
    "    twts = None\n",
    "    \n",
    "    #Copying the data from jsonl to the list\n",
    "    with jsonlines.open(path, 'r') as t:\n",
    "        twts = t.read()\n",
    "        \n",
    "    #Creating the dataframe's structure\n",
    "    Data = [[twt['text'], twt['created_at'], twt['favorite_count'], twt['retweet_count']] for twt in twts]\n",
    "    Col = ['Text', 'Created At', 'Number of Likes', 'Number of Retweets']\n",
    "    \n",
    "    #Creating the Dataframe\n",
    "    datfram = pd.DataFrame(data = Data, columns = Col)\n",
    "    \n",
    "    #Checking for the Occurences of Images\n",
    "    datfram['Number of Images'] = [len([img for img in twt['extended_entities']['media'] if img['type'] == 'photo'])\n",
    "                        if 'extended_entities' in twt else None for twt in twts]\n",
    "    \n",
    "    return datfram"
   ]
  },
  {
   "cell_type": "markdown",
   "metadata": {},
   "source": [
    "# Driver Code"
   ]
  },
  {
   "cell_type": "code",
   "execution_count": null,
   "metadata": {},
   "outputs": [],
   "source": [
    "#Getting the Tweets and storing them in jsonl file\n",
    "get_tweets(\"midasIIItd\")  \n",
    "\n",
    "#Geeting the data from jsonl file and storing them in csv file\n",
    "parse_tweets_from_json('MIDAS_Tweets.jsonl').to_csv('MIDAS_Tweets.csv', header=True, index=False, encoding = 'utf-8')"
   ]
  },
  {
   "cell_type": "markdown",
   "metadata": {},
   "source": [
    "# Displaying the Data"
   ]
  },
  {
   "cell_type": "code",
   "execution_count": null,
   "metadata": {},
   "outputs": [],
   "source": [
    "midas_df = pd.read_csv('MIDAS_Tweets.csv')\n",
    "midas_df.head(10)"
   ]
  },
  {
   "cell_type": "code",
   "execution_count": null,
   "metadata": {},
   "outputs": [],
   "source": []
  }
 ],
 "metadata": {
  "kernelspec": {
   "display_name": "Python 2",
   "language": "python",
   "name": "python2"
  },
  "language_info": {
   "codemirror_mode": {
    "name": "ipython",
    "version": 2
   },
   "file_extension": ".py",
   "mimetype": "text/x-python",
   "name": "python",
   "nbconvert_exporter": "python",
   "pygments_lexer": "ipython2",
   "version": "2.7.12"
  }
 },
 "nbformat": 4,
 "nbformat_minor": 2
}
